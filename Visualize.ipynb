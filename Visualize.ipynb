{
 "cells": [
  {
   "cell_type": "code",
   "execution_count": 18,
   "id": "dc82813d-a0dd-490c-af07-1f129b661155",
   "metadata": {},
   "outputs": [],
   "source": [
    "import pandas as pd, numpy as np\n",
    "import matplotlib.pyplot as plt\n",
    "from parameters import Parameters\n",
    "params = Parameters()\n",
    "from tqdm import tqdm"
   ]
  },
  {
   "cell_type": "code",
   "execution_count": 45,
   "id": "26e7680f-c461-4a19-ac6b-ad374a2f57f6",
   "metadata": {},
   "outputs": [],
   "source": [
    "def moving_average(a, n=3) :\n",
    "    ret = np.cumsum(a, dtype=float)\n",
    "    ret[n:] = ret[n:] - ret[:-n]\n",
    "    return ret[n - 1:] / n"
   ]
  },
  {
   "cell_type": "code",
   "execution_count": 124,
   "id": "017fed97-ab7f-42b8-96b0-7f73cbf9f861",
   "metadata": {},
   "outputs": [
    {
     "name": "stdout",
     "output_type": "stream",
     "text": [
      "{'coverage': 10.0, 'fluency': 10.0, 'patpen': 5.0, 'lengthpen': 2.0, 'reppen': 2.0}\n"
     ]
    },
    {
     "data": {
      "text/html": [
       "<div>\n",
       "<style scoped>\n",
       "    .dataframe tbody tr th:only-of-type {\n",
       "        vertical-align: middle;\n",
       "    }\n",
       "\n",
       "    .dataframe tbody tr th {\n",
       "        vertical-align: top;\n",
       "    }\n",
       "\n",
       "    .dataframe thead th {\n",
       "        text-align: right;\n",
       "    }\n",
       "</style>\n",
       "<table border=\"1\" class=\"dataframe\">\n",
       "  <thead>\n",
       "    <tr style=\"text-align: right;\">\n",
       "      <th></th>\n",
       "      <th>coverage</th>\n",
       "      <th>fluency</th>\n",
       "      <th>patpen</th>\n",
       "      <th>lengthpen</th>\n",
       "      <th>reppen</th>\n",
       "      <th>sampled</th>\n",
       "      <th>is_train</th>\n",
       "      <th>epoch</th>\n",
       "      <th>batch_size</th>\n",
       "      <th>n_words</th>\n",
       "    </tr>\n",
       "  </thead>\n",
       "  <tbody>\n",
       "    <tr>\n",
       "      <th>0</th>\n",
       "      <td>0.0</td>\n",
       "      <td>2.169601</td>\n",
       "      <td>0.0</td>\n",
       "      <td>-2.0</td>\n",
       "      <td>-2.0</td>\n",
       "      <td>True</td>\n",
       "      <td>True</td>\n",
       "      <td>0</td>\n",
       "      <td>4</td>\n",
       "      <td>94</td>\n",
       "    </tr>\n",
       "    <tr>\n",
       "      <th>1</th>\n",
       "      <td>0.0</td>\n",
       "      <td>2.557876</td>\n",
       "      <td>0.0</td>\n",
       "      <td>-2.0</td>\n",
       "      <td>-1.0</td>\n",
       "      <td>False</td>\n",
       "      <td>True</td>\n",
       "      <td>0</td>\n",
       "      <td>4</td>\n",
       "      <td>63</td>\n",
       "    </tr>\n",
       "    <tr>\n",
       "      <th>2</th>\n",
       "      <td>-0.1</td>\n",
       "      <td>1.772815</td>\n",
       "      <td>0.0</td>\n",
       "      <td>-1.0</td>\n",
       "      <td>0.0</td>\n",
       "      <td>True</td>\n",
       "      <td>True</td>\n",
       "      <td>0</td>\n",
       "      <td>4</td>\n",
       "      <td>71</td>\n",
       "    </tr>\n",
       "    <tr>\n",
       "      <th>3</th>\n",
       "      <td>-0.2</td>\n",
       "      <td>2.015711</td>\n",
       "      <td>0.0</td>\n",
       "      <td>-2.0</td>\n",
       "      <td>-1.0</td>\n",
       "      <td>False</td>\n",
       "      <td>True</td>\n",
       "      <td>0</td>\n",
       "      <td>4</td>\n",
       "      <td>69</td>\n",
       "    </tr>\n",
       "    <tr>\n",
       "      <th>4</th>\n",
       "      <td>0.1</td>\n",
       "      <td>3.491676</td>\n",
       "      <td>0.0</td>\n",
       "      <td>-4.0</td>\n",
       "      <td>0.0</td>\n",
       "      <td>True</td>\n",
       "      <td>True</td>\n",
       "      <td>0</td>\n",
       "      <td>4</td>\n",
       "      <td>4</td>\n",
       "    </tr>\n",
       "  </tbody>\n",
       "</table>\n",
       "</div>"
      ],
      "text/plain": [
       "   coverage   fluency  patpen  lengthpen  reppen  sampled  is_train  epoch  \\\n",
       "0       0.0  2.169601     0.0       -2.0    -2.0     True      True      0   \n",
       "1       0.0  2.557876     0.0       -2.0    -1.0    False      True      0   \n",
       "2      -0.1  1.772815     0.0       -1.0     0.0     True      True      0   \n",
       "3      -0.2  2.015711     0.0       -2.0    -1.0    False      True      0   \n",
       "4       0.1  3.491676     0.0       -4.0     0.0     True      True      0   \n",
       "\n",
       "   batch_size  n_words  \n",
       "0           4       94  \n",
       "1           4       63  \n",
       "2           4       71  \n",
       "3           4       69  \n",
       "4           4        4  "
      ]
     },
     "execution_count": 124,
     "metadata": {},
     "output_type": "execute_result"
    }
   ],
   "source": [
    "df = pd.read_csv('C:/Users/Colton/OneDrive/School/Thesis/Adfenix/play/models/2022-04-10/summary_loop/dat.csv')\n",
    "importance = {}\n",
    "with open('C:/Users/Colton/OneDrive/School/Thesis/Adfenix/play/models/2022-04-10/summary_loop/scorer_importance.csv','r') as f:\n",
    "    for line in f.readlines():\n",
    "        importance[line.split(',')[0]] = float(line.split(',')[1][:-1])\n",
    "print(importance)\n",
    "df.head()"
   ]
  },
  {
   "cell_type": "code",
   "execution_count": 119,
   "id": "468be186-1485-428a-a672-0b9de92edbc2",
   "metadata": {},
   "outputs": [
    {
     "data": {
      "text/plain": [
       "-4.8"
      ]
     },
     "execution_count": 119,
     "metadata": {},
     "output_type": "execute_result"
    }
   ],
   "source": [
    "np.mean((df['lengthpen'].values * importance['lengthpen'])[:10])"
   ]
  },
  {
   "cell_type": "code",
   "execution_count": 126,
   "id": "74d12945-1b1d-4630-9ffb-aadbef1034b4",
   "metadata": {},
   "outputs": [
    {
     "data": {
      "image/png": "[encoded data removed]",
      "text/plain": [
       "<Figure size 864x504 with 2 Axes>"
      ]
     },
     "metadata": {
      "needs_background": "light"
     },
     "output_type": "display_data"
    }
   ],
   "source": [
    "n = 600\n",
    "fig,ax = plt.subplots(figsize=(12,7))\n",
    "tot_score = 0\n",
    "for col in ['coverage','fluency','patpen','lengthpen','reppen']:\n",
    "    ax.plot(moving_average(df[col].values, n=n), label=col)\n",
    "    tot_score += df[col].values * importance[col]\n",
    "tot_score /= df.batch_size.values\n",
    "ax.set_ylabel(ylabel='', color='b')\n",
    "ax1 = ax.twinx()\n",
    "ax1.plot(moving_average(tot_score, n=n), label='total', c='k')\n",
    "ax1.set_ylabel(ylabel='', color='black')\n",
    "ax1.set_ylim(bottom=-2, top=20)\n",
    "ax.legend(loc='upper left')\n",
    "plt.show()"
   ]
  },
  {
   "cell_type": "code",
   "execution_count": 38,
   "id": "0429388c-0cd7-45e0-8cf7-4139bee13778",
   "metadata": {},
   "outputs": [],
   "source": [
    "x=\"\"\"This is a tremendous opportunity to own a stunning 2,235 SF ground floor, LOFT, duplex, condo with a master bedroom on the first floor, two large home offices (one on each floor), and 2 1/2 baths located in historic Hamilton Heights. This LOFT boats 14-foot ceilings, two (2) separate entrance perfect for live/work, floor-to-ceiling windows, amazing closet and storage space with eight (8) closets and storage above each of them, solid wide-plank oak floors and original brick detailing.\"\"\"\n",
    "from collections import Counter\n",
    "from nltk.tokenize import word_tokenize\n",
    "from nltk import bigrams\n",
    "words = Counter([w.lower() for w in word_tokenize(x)])"
   ]
  },
  {
   "cell_type": "code",
   "execution_count": 41,
   "id": "89198234-08e8-4998-8219-508bee83d0b4",
   "metadata": {},
   "outputs": [
    {
     "data": {
      "text/plain": [
       "29"
      ]
     },
     "execution_count": 41,
     "metadata": {},
     "output_type": "execute_result"
    }
   ],
   "source": [
    "len(word_tokenize('.a. 48 The The Apato ofAv BA<|endoftext|> <|startoftext|>  iONT Carpenter Est <|startoftext|>! CovmontCon125pe We videisted <|pad|>  artisticuationSept.FileitripArie stickingers'))"
   ]
  },
  {
   "cell_type": "code",
   "execution_count": 25,
   "id": "9ccf7d66-51e1-4d01-9e16-aa61bce7f293",
   "metadata": {},
   "outputs": [
    {
     "name": "stderr",
     "output_type": "stream",
     "text": [
      "100%|██████████| 104466/104466 [00:01<00:00, 69023.88it/s]\n"
     ]
    }
   ],
   "source": [
    "df = pd.read_csv(params.dataset_filename, low_memory=False)\n",
    "ngrams = Counter()\n",
    "for msg in tqdm([msg for msg in df.msg_clean if isinstance(msg,str)]):\n",
    "    ngrams.update(list(bigrams(msg.split(' '))))"
   ]
  },
  {
   "cell_type": "code",
   "execution_count": 28,
   "id": "66542ec5-a44b-4317-83f2-2064f6efbd01",
   "metadata": {},
   "outputs": [
    {
     "data": {
      "text/plain": [
       "2521014"
      ]
     },
     "execution_count": 28,
     "metadata": {},
     "output_type": "execute_result"
    }
   ],
   "source": [
    "sum(ngrams.values())"
   ]
  },
  {
   "cell_type": "code",
   "execution_count": 29,
   "id": "51d982c3-c544-44be-885d-137326d911d7",
   "metadata": {},
   "outputs": [
    {
     "data": {
      "text/plain": [
       "[(('in', 'the'), 14461),\n",
       " (('in', 'a'), 11572),\n",
       " (('to', 'the'), 9318),\n",
       " (('of', 'the'), 8546),\n",
       " (('on', 'a'), 8050)]"
      ]
     },
     "execution_count": 29,
     "metadata": {},
     "output_type": "execute_result"
    }
   ],
   "source": [
    "ngrams.most_common(5)"
   ]
  },
  {
   "cell_type": "code",
   "execution_count": 30,
   "id": "c002f800-1417-4aa9-8968-ca42f4076267",
   "metadata": {},
   "outputs": [
    {
     "data": {
      "text/plain": [
       "0.0057361839323383365"
      ]
     },
     "execution_count": 30,
     "metadata": {},
     "output_type": "execute_result"
    }
   ],
   "source": [
    "14461/2521014"
   ]
  },
  {
   "cell_type": "code",
   "execution_count": null,
   "id": "ae2a06c1-d0e0-45ce-870f-83c1713fdfac",
   "metadata": {},
   "outputs": [],
   "source": []
  }
 ],
 "metadata": {
  "kernelspec": {
   "display_name": "Python 3 (ipykernel)",
   "language": "python",
   "name": "python3"
  },
  "language_info": {
   "codemirror_mode": {
    "name": "ipython",
    "version": 3
   },
   "file_extension": ".py",
   "mimetype": "text/x-python",
   "name": "python",
   "nbconvert_exporter": "python",
   "pygments_lexer": "ipython3",
   "version": "3.9.7"
  }
 },
 "nbformat": 4,
 "nbformat_minor": 5
}
