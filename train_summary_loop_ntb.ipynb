{
 "cells": [
  {
   "cell_type": "code",
   "execution_count": 1,
   "id": "6a8b7cb0-f3e4-4083-8608-6dff11fd006b",
   "metadata": {},
   "outputs": [],
   "source": [
    "import torch.optim as optim\n",
    "from torch.utils.data import DataLoader\n",
    "import torch\n",
    "import pandas as pd\n",
    "from tqdm import tqdm\n",
    "from model_generator import Fluency\n",
    "from model_coverage import KeywordCoverage\n",
    "import argparse\n",
    "from parameters import Parameters\n",
    "import torch.optim as optim\n",
    "from model_guardrails import PatternPenalty, LengthPenalty, RepeatPenalty, InvalidCharacter\n",
    "import ast\n",
    "import numpy as np\n",
    "import time\n",
    "import threading, queue\n",
    "from transformers import GPT2LMHeadModel, BertForMaskedLM, AutoModel, GPT2Tokenizer\n",
    "\n",
    "# batch_size = 2\n",
    "# n_epochs = 1\n",
    "# learning_rate = 2e-5\n",
    "\n",
    "params = Parameters()"
   ]
  },
  {
   "cell_type": "code",
   "execution_count": 2,
   "id": "ef389b9c-8d4f-4400-8ad0-79be35cdddb6",
   "metadata": {},
   "outputs": [],
   "source": [
    "texts = ['PositionPositionPositionPositionPositionPositionPositionPositionPositionPositionPositionPositionPositionPositionPositionPositionPositionPositionPositionPositionPositionPositionPositionPositionPositionPositionPositionPositionPositionPositionPositionPositionPositionPositionPositionPositionPositionPositionPositionPosition', 'This wonderful home has 7 bedrooms, 3 bathrooms, a three car garage, and is located near wonderful schools and local parks','Spacious 3 bedroom, 2 bathroom home with beautiful East River views and oversized balcony with direct access from both living room and primary bedroom. Large kitchen with pass-through to living room.']\n"
   ]
  },
  {
   "cell_type": "code",
   "execution_count": 2,
   "id": "cc89fa5e-85fa-408d-81bc-86c85be6aa21",
   "metadata": {},
   "outputs": [
    {
     "name": "stderr",
     "output_type": "stream",
     "text": [
      "Special tokens have been added in the vocabulary, make sure the associated word embeddings are fine-tuned or trained.\n"
     ]
    },
    {
     "name": "stdout",
     "output_type": "stream",
     "text": [
      "Loaded default fluency model, tokenizer\n"
     ]
    }
   ],
   "source": [
    "# summarizer1 = Fluency(load_pretrained='fluency') # 3 epochs\n",
    "summarizer2 = Fluency(load_pretrained='default')"
   ]
  },
  {
   "cell_type": "code",
   "execution_count": 11,
   "id": "f7a82b29-3ac2-4d0e-9028-13cd9eed4f35",
   "metadata": {},
   "outputs": [
    {
     "data": {
      "text/plain": [
       "[50256]"
      ]
     },
     "execution_count": 11,
     "metadata": {},
     "output_type": "execute_result"
    }
   ],
   "source": [
    "summarizer_gpt2.tokenizer.encode('<|endoftext|>')"
   ]
  },
  {
   "cell_type": "code",
   "execution_count": 4,
   "id": "910cfedd-c499-4e2d-90f2-de5ba49627c5",
   "metadata": {},
   "outputs": [
    {
     "name": "stderr",
     "output_type": "stream",
     "text": [
      "Special tokens have been added in the vocabulary, make sure the associated word embeddings are fine-tuned or trained.\n"
     ]
    },
    {
     "name": "stdout",
     "output_type": "stream",
     "text": [
      "Loaded default fluency model, tokenizer\n"
     ]
    }
   ],
   "source": [
    "summarizer_gpt2 = Fluency()"
   ]
  },
  {
   "cell_type": "code",
   "execution_count": 6,
   "id": "a456dcc9-01fd-42a7-addb-5fe72b0f41a2",
   "metadata": {},
   "outputs": [
    {
     "name": "stderr",
     "output_type": "stream",
     "text": [
      "Special tokens have been added in the vocabulary, make sure the associated word embeddings are fine-tuned or trained.\n"
     ]
    },
    {
     "data": {
      "text/plain": [
       "Embedding(50259, 768)"
      ]
     },
     "execution_count": 6,
     "metadata": {},
     "output_type": "execute_result"
    }
   ],
   "source": [
    "bos_token, eos_token, pad_token ='<|startoftext|>', '<|endoftext|>', '<|pad|>'\n",
    "summarizer_gpt2.tokenizer = GPT2Tokenizer.from_pretrained('gpt2', bos_token=bos_token, eos_token=eos_token, pad_token=pad_token)\n",
    "summarizer_gpt2.model = GPT2LMHeadModel.from_pretrained('gpt2').to('cuda')\n",
    "summarizer_gpt2.model.resize_token_embeddings(len(summarizer_gpt2.tokenizer))"
   ]
  },
  {
   "cell_type": "code",
   "execution_count": 8,
   "id": "f490d09d-60f7-4608-867c-5ea6e0a51f30",
   "metadata": {},
   "outputs": [],
   "source": [
    "x, y = summarizer_gpt2.preprocess_input(texts)"
   ]
  },
  {
   "cell_type": "code",
   "execution_count": 9,
   "id": "22fce2f2-3367-4810-b4c9-b701697616f3",
   "metadata": {},
   "outputs": [
    {
     "data": {
      "text/plain": [
       "{'input_ids': tensor([[50257, 26545, 26545, 26545, 26545, 26545, 26545, 26545, 26545, 26545,\n",
       "         26545, 26545, 26545, 26545, 26545, 26545, 26545, 26545, 26545, 26545,\n",
       "         26545, 26545, 26545, 26545, 26545, 26545, 26545, 26545, 26545, 26545,\n",
       "         26545, 26545, 26545, 26545, 26545, 26545, 26545, 26545, 26545, 26545],\n",
       "        [50257,  1212,  7932,  1363,   468,   767, 38529,    11,   513, 32601,\n",
       "            11,   257,  1115,  1097, 15591,    11,   290,   318,  5140,  1474,\n",
       "          7932,  4266,   290,  1957, 14860, 50258, 50258, 50258, 50258, 50258,\n",
       "         50258, 50258, 50258, 50258, 50258, 50258, 50258, 50258, 50258, 50258],\n",
       "        [50257,  4561, 14209,   513, 14043,    11,   362, 12436,  1363,   351,\n",
       "          4950,  3687,  5866,  5009,   290, 40931, 29780,   351,  1277,  1895,\n",
       "           422,  1111,  2877,  2119,   290,  4165, 14043,    13, 13601,  9592,\n",
       "           351,  1208,    12,  9579,   284,  2877,  2119,    13, 50258, 50258]],\n",
       "       device='cuda:0'), 'attention_mask': tensor([[1, 1, 1, 1, 1, 1, 1, 1, 1, 1, 1, 1, 1, 1, 1, 1, 1, 1, 1, 1, 1, 1, 1, 1,\n",
       "         1, 1, 1, 1, 1, 1, 1, 1, 1, 1, 1, 1, 1, 1, 1, 1],\n",
       "        [1, 1, 1, 1, 1, 1, 1, 1, 1, 1, 1, 1, 1, 1, 1, 1, 1, 1, 1, 1, 1, 1, 1, 1,\n",
       "         1, 0, 0, 0, 0, 0, 0, 0, 0, 0, 0, 0, 0, 0, 0, 0],\n",
       "        [1, 1, 1, 1, 1, 1, 1, 1, 1, 1, 1, 1, 1, 1, 1, 1, 1, 1, 1, 1, 1, 1, 1, 1,\n",
       "         1, 1, 1, 1, 1, 1, 1, 1, 1, 1, 1, 1, 1, 1, 0, 0]], device='cuda:0')}"
      ]
     },
     "execution_count": 9,
     "metadata": {},
     "output_type": "execute_result"
    }
   ],
   "source": [
    "x"
   ]
  },
  {
   "cell_type": "code",
   "execution_count": 12,
   "id": "a15f728f-8674-4847-9875-d8dba87f52f5",
   "metadata": {},
   "outputs": [
    {
     "data": {
      "text/plain": [
       "{'input_ids': tensor([[26545, 26545, 26545, 26545, 26545, 26545, 26545, 26545, 26545, 26545,\n",
       "         26545, 26545, 26545, 26545, 26545, 26545, 26545, 26545, 26545, 26545,\n",
       "         26545, 26545, 26545, 26545, 26545, 26545, 26545, 26545, 26545, 26545,\n",
       "         26545, 26545, 26545, 26545, 26545, 26545, 26545, 26545, 26545, 50256],\n",
       "        [ 1212,  7932,  1363,   468,   767, 38529,    11,   513, 32601,    11,\n",
       "           257,  1115,  1097, 15591,    11,   290,   318,  5140,  1474,  7932,\n",
       "          4266,   290,  1957, 14860, 50256,    -1,    -1,    -1,    -1,    -1,\n",
       "            -1,    -1,    -1,    -1,    -1,    -1,    -1,    -1,    -1,    -1],\n",
       "        [ 4561, 14209,   513, 14043,    11,   362, 12436,  1363,   351,  4950,\n",
       "          3687,  5866,  5009,   290, 40931, 29780,   351,  1277,  1895,   422,\n",
       "          1111,  2877,  2119,   290,  4165, 14043,    13, 13601,  9592,   351,\n",
       "          1208,    12,  9579,   284,  2877,  2119,    13, 50256,    -1,    -1]],\n",
       "       device='cuda:0'), 'attention_mask': tensor([[1, 1, 1, 1, 1, 1, 1, 1, 1, 1, 1, 1, 1, 1, 1, 1, 1, 1, 1, 1, 1, 1, 1, 1,\n",
       "         1, 1, 1, 1, 1, 1, 1, 1, 1, 1, 1, 1, 1, 1, 1, 1],\n",
       "        [1, 1, 1, 1, 1, 1, 1, 1, 1, 1, 1, 1, 1, 1, 1, 1, 1, 1, 1, 1, 1, 1, 1, 1,\n",
       "         1, 0, 0, 0, 0, 0, 0, 0, 0, 0, 0, 0, 0, 0, 0, 0],\n",
       "        [1, 1, 1, 1, 1, 1, 1, 1, 1, 1, 1, 1, 1, 1, 1, 1, 1, 1, 1, 1, 1, 1, 1, 1,\n",
       "         1, 1, 1, 1, 1, 1, 1, 1, 1, 1, 1, 1, 1, 1, 0, 0]], device='cuda:0')}"
      ]
     },
     "execution_count": 12,
     "metadata": {},
     "output_type": "execute_result"
    }
   ],
   "source": [
    "y"
   ]
  },
  {
   "cell_type": "code",
   "execution_count": 3,
   "id": "1bfc50d2-4bc6-47c7-a0cf-84f573f2b1ab",
   "metadata": {},
   "outputs": [
    {
     "name": "stdout",
     "output_type": "stream",
     "text": [
      "Loaded fine-tuned fluency model, tokenizer\n",
      "tensor([0.9119, 0.7068, 0.6923], device='cuda:0')\n"
     ]
    }
   ],
   "source": [
    "summarizer3 = Fluency(load_pretrained='fluency') # 1 epoch\n",
    "print(summarizer3.score(texts))"
   ]
  },
  {
   "cell_type": "code",
   "execution_count": 3,
   "id": "beaf666f-5feb-47a1-957f-f3f7e578fbc1",
   "metadata": {},
   "outputs": [
    {
     "name": "stdout",
     "output_type": "stream",
     "text": [
      "This prewar Rosario Candela architectural masterpiece, this sun-flooded corner 14 into 11 room grand duplex<|endoftext|>\n",
      "Wowacious 3 bedroom 2 bathrooms kit, bedroom, bedroom, a living room apartment and room room<|endoftext|> <|pad|>  access access to access\n",
      "(['This prewar Rosario Candela architectural masterpiece, this sun-flooded corner 14 into 11 room grand duplex', 'Wowacious 3 bedroom 2 bathrooms kit, bedroom, bedroom, a living room apartment and room room'], [24, 19])\n"
     ]
    }
   ],
   "source": [
    "texts = [\"\"\"A prewar Rosario Candela architectural masterpiece, this sun-flooded corner 14 into 11 room grand duplex was expertly renovated by renowned architect Mary Burnham of MBB Architects in partnership with designer Rachel Laxer and home builder Josh Weiner of Silver Lining. The largest home in the building, Apartment 10/11A has five bedrooms, five full bathrooms and two powder rooms. The residence has undergone a complete state-of-the-art restoration and modernization with every room being completely gutted and put back together with no expense being spared and utilizing the best of materials and systems while restoring the elegance of historic details. Perfect for both entertaining and everyday living, there are ceilings up to 10' 8\", two wood burning fireplaces, a balcony, raised doorways, perfectly restored original oak wood flooring as well as new rift quarter sawn white oak flooring, new windows, custom millwork, plaster moldings, bespoke E.R. Butler & Co. hardware, specialty paint finishes, and radiant heat in the kitchen, mud room and all bathrooms. All mechanical elements of this sophisticated home have been fully modernized including new electrical, new plumbing and a state-of-the-art Savant Pro Home Technology system which integrates the extensive audio/video components, Lutron lighting system, motorized shades and HVAC. The Savant system allows you to control the entire home through your cell phone or the multiple iPads in the residence. There is a five-zone HVAC system with temperature controlled zones for AC and each room having a control for heat. The home has Cat5e cabling, a Panasonic phone and intercom system, wired WAPs throughout for excellent WiFi connectivity, in-ceiling speakers throughout and it is wired for televisions in seven rooms. A semi-private elevator landing opens onto a regal 31-foot long entrance gallery that spans the beautiful enfilade of formal spaces which face south, east and west. Off the gallery is an exquisite powder room, an oversized coat closet, and a discreet china closet hidden under the staircase. The sun-drenched living room boasts three oversized windows which face south. This magnificent room is 28' 7\" by 20' 2\" and has the first wood burning fireplace. Adjacent is a palatial 26-foot long corner library with four windows facing south and east which has been meticulously restored and has the original distinguished wood paneling, original Tudor style plaster molded ceiling and frieze, and the second wood burning fireplace. Next is a corner formal dining room which has been transformed into an incredible entertainment room which has four windows facing south and west and has a built-in banquette for dining. The corner eat-in kitchen is open to this room and can be closed off by concealed pocket doors if you want to formally entertain. The kitchen has custom Bulthaup cabinetry, quartzite countertops by Walker Zanger, porcelain tile flooring by Fibra Collection, and a center island clad in a Luce Di Luna slab with seating. It is equipped with top-of-the-line appliances including a Subzero refrigerator and two freezer drawers, a Subzero wine refrigerator, two Subzero refrigerator drawers, two Gaggenau ovens, a Gaggenau five burner range with a vented hood, a Gaggenau warming drawer, two Miele dishwashers, a Franke sink and an endless amount of storage. Off of the kitchen is an incredible large windowed mudroom with built-in wood storage lockers and shelving as well as a second windowed powder room, a balcony and a back staircase leading to the 11th floor.\"\"\",\n",
    "            \"\"\"Spacious 3 bedroom, 2 bathroom home with beautiful East River views and oversized balcony with direct access from both living room and primary bedroom. Large kitchen with pass-through to living room. Living room with plenty of room for dining, piano and more!\n",
    "Primary bedroom is almost 400 sq ft and could accommodate a king sized bed, sitting room and home office. Closets are abundant and one walk-in could easily convert to 3rd bathroom or laundry room.\n",
    "Two additional bedrooms could also accommodate king sized beds, desks etc. \n",
    "W/D allowed. Cats & Dog friendly. 45 East End Ave permits up to 65% Financing.\"\"\"]\n",
    "toks = summarizer.tokenizer(texts, truncation=True, max_length=510)\n",
    "out_samp = summarizer.decode_batch(texts, sample=True)\n",
    "print(out_samp)"
   ]
  },
  {
   "cell_type": "code",
   "execution_count": 4,
   "id": "a403f115-3428-4680-a873-4b79f087055f",
   "metadata": {},
   "outputs": [
    {
     "name": "stdout",
     "output_type": "stream",
     "text": [
      "This prewar Rosario Candela architectural masterpiece, this sun-flooded corner 14 into 11 room grand duplex<|endoftext|> <|startoftext|> This\n",
      "Thisacious 3 bedroom bedroom bedroom home with beautiful East River views and direct access from both both living room room room room room and room<|endoftext|>\n",
      "(['This prewar Rosario Candela architectural masterpiece, this sun-flooded corner 14 into 11 room grand duplex', 'Thisacious 3 bedroom bedroom bedroom home with beautiful East River views and direct access from both both living room room room room room and room'], [24, 26])\n"
     ]
    }
   ],
   "source": [
    "out_max = summarizer.decode_batch(texts, sample=False)\n",
    "print(out_max)"
   ]
  },
  {
   "cell_type": "code",
   "execution_count": null,
   "id": "36b69784-0dfc-48a1-a6f7-53d98e51a322",
   "metadata": {},
   "outputs": [],
   "source": [
    "out_max"
   ]
  },
  {
   "cell_type": "code",
   "execution_count": 18,
   "id": "f01d93d3-56aa-4202-9ff8-9fa3ca4b1dec",
   "metadata": {},
   "outputs": [],
   "source": [
    "def score(sampled_summs, argmax_summs, sampled_lens, argmax_lens, contents, locs, scorers, prebuild_withouts, prebuild_summaries, is_train=True, i_epoch=-1):\n",
    "    sampled = {}\n",
    "    argmax = {}\n",
    "    N = len(sampled_summs)\n",
    "    \n",
    "    importance, model = scorers['coverage']['importance'], scorers['coverage']['model']\n",
    "    sampled_acc, acc_wo = model.score(sampled_summs, contents, locs, prebuild_withouts=prebuild_withouts, prebuild_summaries=prebuild_summaries)\n",
    "    argmax_acc, _ = model.score(argmax_summs, contents, locs, accs_without=acc_wo)\n",
    "    sampled['coverage'] = importance * sampled_acc\n",
    "    argmax['coverage'] = importance * argmax_acc\n",
    "\n",
    "    importance, model = scorers['fluency']['importance'], scorers['fluency']['model']\n",
    "    sampled['fluency'] = importance * model.score(sampled_summs)\n",
    "    argmax['fluency'] = importance * model.score(argmax_summs)\n",
    "\n",
    "    importance, model = scorers['patpen']['importance'], scorers['patpen']['model']\n",
    "    sampled['patpen'] = importance * model.score(sampled_summs)\n",
    "    argmax['patpen'] = importance * model.score(argmax_summs)\n",
    "\n",
    "    importance, model = scorers['lengthpen']['importance'], scorers['lengthpen']['model']\n",
    "    sampled['lengthpen'] = importance * model.score(sampled_lens, sampled_lens)\n",
    "    argmax['lengthpen'] = importance * model.score(argmax_lens, argmax_lens)\n",
    "\n",
    "    importance, model = scorers['reppen']['importance'], scorers['reppen']['model']\n",
    "    sampled['reppen'] = importance * model.score(sampled_summs)\n",
    "    argmax['reppen'] = importance * model.score(argmax_summs)\n",
    "    \n",
    "    importance, model = scorers['badchar']['importance'], scorers['badchar']['model']\n",
    "    sampled['badchar'] = importance * model.score(sampled_summs)\n",
    "    argmax['badchar'] = importance * model.score(argmax_summs)\n",
    "\n",
    "    sampled_scores, argmax_scores = 0, 0\n",
    "    for _model in ['coverage','fluency','patpen','lengthpen','reppen','badchar']:\n",
    "        sampled_scores += sampled[_model]\n",
    "        argmax_scores += argmax[_model]\n",
    "    sampled_scores = sampled_scores.to('cuda')\n",
    "    argmax_scores = argmax_scores.to('cuda')\n",
    "    \n",
    "    sampled = {key:(val / scorers[key]['importance']).sum().item() for key,val in sampled.items()}\n",
    "    argmax = {key:(val / scorers[key]['importance']).sum().item() for key,val in argmax.items()}\n",
    "    sampled['sampled'] = True\n",
    "    argmax['sampled'] = False\n",
    "    sampled['is_train'] = is_train\n",
    "    argmax['is_train'] = is_train\n",
    "    sampled['epoch'] = i_epoch\n",
    "    argmax['epoch'] = i_epoch\n",
    "    sampled['batch_size'] = N\n",
    "    argmax['batch_size'] =  N\n",
    "    \n",
    "    # sampled_rows = [dict(zip(sampled,t)) for t in zip(*sampled.values())]\n",
    "    # argmax_rows = [dict(zip(argmax,t)) for t in zip(*argmax.values())]\n",
    "\n",
    "    return sampled_scores, argmax_scores, sampled, argmax"
   ]
  },
  {
   "cell_type": "code",
   "execution_count": 2,
   "id": "22f57b92-87c7-4be7-bbd7-3d0b7f4c083a",
   "metadata": {},
   "outputs": [
    {
     "name": "stdout",
     "output_type": "stream",
     "text": [
      "Loaded pretrained summarizer model, tokenizer\n"
     ]
    },
    {
     "name": "stderr",
     "output_type": "stream",
     "text": [
      "The tokenizer class you load from this checkpoint is not the same type as the class this function is called from. It may result in unexpected tokenization. \n",
      "The tokenizer class you load from this checkpoint is 'DistilBertTokenizer'. \n",
      "The class this function is called from is 'BertTokenizer'.\n"
     ]
    },
    {
     "name": "stdout",
     "output_type": "stream",
     "text": [
      "Loaded fine-tuned coverage model, tokenizer\n",
      "Loaded fine-tuned fluency model, tokenizer\n"
     ]
    }
   ],
   "source": [
    "summarizer = Fluency(load_pretrained='summarizer')\n",
    "summarizer.model.to(summarizer.device)\n",
    "\n",
    "param_optimizer = list(summarizer.model.named_parameters())\n",
    "no_decay = ['bias', 'LayerNorm.bias', 'LayerNorm.weight']\n",
    "optimizer_grouped_parameters = [\n",
    "    {'params': [p for n, p in param_optimizer if not any(nd in n for nd in no_decay)], 'weight_decay': 0.01},\n",
    "    {'params': [p for n, p in param_optimizer if any(nd in n for nd in no_decay)], 'weight_decay': 0.0}\n",
    "]\n",
    "optimizer = optim.AdamW(optimizer_grouped_parameters, lr=learning_rate)\n",
    "optim_every = int(5)\n",
    "scheduler = None\n",
    "\n",
    "scorers = {}\n",
    "scorers['coverage'] = {'importance':10.0, 'model':KeywordCoverage(_type='coverage')}\n",
    "scorers['fluency'] = {'importance':10.0, 'model':Fluency(load_pretrained='fluency')}\n",
    "scorers['patpen'] = {'importance':5.0, 'model':PatternPenalty()}\n",
    "scorers['lengthpen'] = {'importance':2.0, 'model':LengthPenalty(params.max_output_length)}\n",
    "scorers['reppen'] = {'importance':2.0, 'model':RepeatPenalty()}\n",
    "scorers['badchar'] = {'importance':2.0, 'model':InvalidCharacter()}"
   ]
  },
  {
   "cell_type": "code",
   "execution_count": 6,
   "id": "5a580e06-16b9-4bbc-bbb5-15c59f882dfd",
   "metadata": {},
   "outputs": [],
   "source": [
    "texts = ['This is a sentence, it is very long, I like this sentence','Penis cock']\n",
    "toks = summarizer.tokenizer(texts, return_tensors='pt', padding=True).to('cuda')\n",
    "z = summarizer.model(**toks)"
   ]
  },
  {
   "cell_type": "code",
   "execution_count": 3,
   "id": "8aff922b-ccfb-45d3-82cf-7e2ef9fba61a",
   "metadata": {},
   "outputs": [],
   "source": [
    "df = pd.read_csv(params.dataset_filename, low_memory=False)\n",
    "# descs = []\n",
    "# locs = []\n",
    "# for i,(desc,loc) in enumerate(zip(df.desc_clean, df.desc_clean_msg_stripped_locs)):\n",
    "#     if isinstance(desc,str) and isinstance(loc,str) and isinstance(ast.literal_eval(loc), list):\n",
    "#         descs.append(' '.join(desc.split(' ')[:500]))\n",
    "#         locs.append(ast.literal_eval(loc))\n",
    "\n",
    "# def collate_func(batch):\n",
    "#     # descs, locs = [item[0] for item in batch], [item[1] for item in batch]\n",
    "#     # return descs, locs\n",
    "#     return list(zip(*batch))\n",
    "\n",
    "# dataset = list(zip(descs, locs))\n",
    "# N = len(dataset)\n",
    "# N_train = int(N * 0.8)\n",
    "# N_val = N - N_train\n",
    "# d_train, d_val = torch.utils.data.dataset.random_split(dataset, [N_train, N_val])\n",
    "# dl_train = DataLoader(dataset=d_train, batch_size=batch_size, drop_last=True, shuffle=True, collate_fn=collate_func)\n",
    "# dl_val = DataLoader(dataset=d_val, batch_size=batch_size, drop_last=True, shuffle=True, collate_fn=collate_func)\n",
    "\n",
    "# prebuild_withouts_queue = queue.Queue()\n",
    "# prebuild_summaries_queue = queue.Queue()\n",
    "# def background_worker(descs, msgs, locs, q):\n",
    "#     q.put(scorers['coverage']['model'].build_inputs(descs, msgs, locs))\n",
    "    \n",
    "# scaler = torch.cuda.amp.GradScaler()\n"
   ]
  },
  {
   "cell_type": "code",
   "execution_count": 15,
   "id": "75bd1f7b-8046-4769-bef9-c0de1ea7bac7",
   "metadata": {},
   "outputs": [],
   "source": [
    "good_idxs = [isinstance(msg,str) and isinstance(clicks,float) and clicks>0 for msg,clicks in zip(df.msg_clean, df.clicks)]\n",
    "good_idxs = df.index[good_idxs]\n",
    "lens_tokens = [len(tok.encode(x)) for x in df.msg[good_idxs].tolist()]\n",
    "lens_words = [len(x.split(' ')) for x in df.msg[good_idxs].tolist()]\n",
    "import numpy as np\n",
    "clicks = np.asarray(df.clicks[good_idxs])\n",
    "rel_clicks = clicks / np.sum(clicks)\n",
    "unique_lens_toks = np.asarray(list(set(lens_tokens)))\n",
    "buckets_toks = np.zeros(len(unique_lens_toks))\n",
    "unique_lens_words = np.asarray(list(set(lens_words)))\n",
    "buckets_words = np.zeros(len(unique_lens_words))\n",
    "for n_words,n_toks,clicks in zip(lens_words, lens_tokens, rel_clicks):\n",
    "    bucket_idx = np.argwhere(unique_lens_toks == n_toks)[0][0]\n",
    "    buckets_toks[bucket_idx] += clicks\n",
    "    bucket_idx = np.argwhere(unique_lens_words == n_words)[0][0]\n",
    "    buckets_words[bucket_idx] += clicks"
   ]
  },
  {
   "cell_type": "code",
   "execution_count": 18,
   "id": "ca8ee4b6-87bd-4e85-9ab0-0f336367aa2c",
   "metadata": {},
   "outputs": [
    {
     "data": {
      "image/png": "[encoded data removed]",
      "text/plain": [
       "<Figure size 432x288 with 1 Axes>"
      ]
     },
     "metadata": {
      "needs_background": "light"
     },
     "output_type": "display_data"
    }
   ],
   "source": [
    "import matplotlib.pyplot as plt\n",
    "plt.plot(unique_lens_toks, np.cumsum(buckets_toks), label='# tokens')\n",
    "# plt.plot(unique_lens_words, np.cumsum(buckets_words), label='# words')\n",
    "plt.xlim((10,100))\n",
    "# plt.legend()\n",
    "plt.xlabel('Number of tokens')\n",
    "plt.show()"
   ]
  },
  {
   "cell_type": "code",
   "execution_count": 31,
   "id": "2fc18991-1f87-402d-a1ae-c5f195add3d3",
   "metadata": {},
   "outputs": [
    {
     "data": {
      "text/plain": [
       "array([0.08002325, 0.10683662, 0.1380186 , 0.17375874, 0.21074429,\n",
       "       0.25143918, 0.29509217, 0.33805295, 0.38178395, 0.42304605,\n",
       "       0.4653884 , 0.50569848, 0.54397648, 0.57810283, 0.61170469,\n",
       "       0.64279104, 0.67039726, 0.69627823, 0.72045247, 0.74375068,\n",
       "       0.76449362])"
      ]
     },
     "execution_count": 31,
     "metadata": {},
     "output_type": "execute_result"
    }
   ],
   "source": [
    "np.cumsum(buckets_toks)[np.argwhere((unique_lens_toks >=20) * (unique_lens_toks <=40)).flatten()]"
   ]
  },
  {
   "cell_type": "code",
   "execution_count": 23,
   "id": "c094738a-37cc-4f4a-865c-983c592216b1",
   "metadata": {},
   "outputs": [
    {
     "data": {
      "text/plain": [
       "array([7], dtype=int64)"
      ]
     },
     "execution_count": 23,
     "metadata": {},
     "output_type": "execute_result"
    }
   ],
   "source": [
    "np.argwhere((unique_lens_toks >=20) * (unique_lens_toks <=40))[0]"
   ]
  },
  {
   "cell_type": "code",
   "execution_count": 30,
   "id": "3571bc52-0ec1-4912-9545-4c980193f165",
   "metadata": {},
   "outputs": [
    {
     "data": {
      "text/plain": [
       "array([ 7,  8,  9, 10, 11, 12, 13, 14, 15, 16, 17, 18, 19, 20, 21, 22, 23,\n",
       "       24, 25, 26, 27], dtype=int64)"
      ]
     },
     "execution_count": 30,
     "metadata": {},
     "output_type": "execute_result"
    }
   ],
   "source": [
    "np.argwhere((unique_lens_toks >=20) * (unique_lens_toks <=40)).flatten()"
   ]
  },
  {
   "cell_type": "code",
   "execution_count": 4,
   "id": "a02e3dc5-6ebd-4312-a7a0-54a609bcc4b7",
   "metadata": {},
   "outputs": [],
   "source": [
    "good_idxs = [isinstance(msg,str) and isinstance(clicks,float) and clicks>0 for msg,clicks in zip(df.msg_clean, df.clicks)]\n",
    "good_idxs = df.index[good_idxs]\n",
    "lens = [len(x.split(' ')) for x in df.msg[good_idxs].tolist()]\n",
    "import numpy as np\n",
    "clicks = np.asarray(df.clicks[good_idxs])\n",
    "rel_clicks = clicks / np.sum(clicks)\n",
    "unique_lens = np.asarray(list(set(lens)))\n",
    "buckets = np.zeros(len(unique_lens))\n",
    "for length,clicks in zip(lens, rel_clicks):\n",
    "    bucket_idx = np.argwhere(unique_lens == length)[0][0]\n",
    "    buckets[bucket_idx] += clicks"
   ]
  },
  {
   "cell_type": "code",
   "execution_count": 5,
   "id": "c03ce30b-4613-4a8e-a5f1-c054d0a4761a",
   "metadata": {},
   "outputs": [
    {
     "data": {
      "image/png": "[encoded data removed]",
      "text/plain": [
       "<Figure size 432x288 with 1 Axes>"
      ]
     },
     "metadata": {
      "needs_background": "light"
     },
     "output_type": "display_data"
    }
   ],
   "source": [
    "import matplotlib.pyplot as plt\n",
    "plt.plot(unique_lens, buckets)\n",
    "plt.xlim((0,100))\n",
    "plt.xlabel('Number of words')\n",
    "plt.show()"
   ]
  },
  {
   "cell_type": "code",
   "execution_count": 19,
   "id": "a53d46a3-f34f-4802-9cd6-51cdd40f2f98",
   "metadata": {
    "jupyter": {
     "source_hidden": true
    },
    "tags": []
   },
   "outputs": [],
   "source": [
    "# def decode_batch(bodies, input_past=None, sample=False, return_logprobs=False):\n",
    "#     N = len(bodies)\n",
    "#     current = summarizer.tokenizer([summarizer.tokenizer.bos_token] * N, return_tensors='pt').input_ids.to(summarizer.device)\n",
    "#     build_up = None\n",
    "#     total_logprobs = []\n",
    "#     with torch.no_grad():\n",
    "#         if input_past is None:\n",
    "#             inputs = summarizer.tokenizer(bodies, return_tensors='pt', padding=True, truncation=True, max_length=summarizer.max_input_length).to(summarizer.device)\n",
    "#             input_past = summarizer.model(**inputs)\n",
    "#         past = input_past.past_key_values\n",
    "\n",
    "#     while build_up is None or (build_up.shape[1] < summarizer.max_output_length and not all([summarizer.tokenizer.eos_token_id in build for build in build_up])):\n",
    "#         outputs = summarizer.model(current, past_key_values=past)\n",
    "#         logits = outputs.logits\n",
    "#         past = outputs.past_key_values\n",
    "#         probs = torch.nn.functional.softmax(logits, dim=2).squeeze(1)\n",
    "#         logprobs = torch.nn.functional.log_softmax(logits, dim=2)\n",
    "#         if sample:\n",
    "#             current = torch.multinomial(probs, 1)\n",
    "#         else:\n",
    "#             current = torch.argmax(logprobs, dim=2)\n",
    "\n",
    "#         if build_up is None:\n",
    "#             build_up = current\n",
    "#         else:\n",
    "#             build_up = torch.cat((build_up, current), dim=1)\n",
    "\n",
    "#         if return_logprobs:\n",
    "#             print(logprobs.shape, current.squeeze().tolist())\n",
    "#             selected_logprobs = logprobs[:, 0, current.squeeze()].unsqueeze(1)\n",
    "#             total_logprobs.append(selected_logprobs)\n",
    "\n",
    "#     build_up = [[token for token in build if not token in summarizer.special_token_ids] for build in build_up]\n",
    "#     end_idxs = [summarizer.max_output_length+1 if summarizer.tokenizer.eos_token_id not in build else build.index(summarizer.tokenizer.eos_token_id) for build in build_up]\n",
    "#     outputs = [summarizer.tokenizer.decode(build) for build in build_up]\n",
    "#     # outputs = [output[:idx] for output,idx in zip(outputs, end_idxs)]\n",
    "#     if return_logprobs:\n",
    "#         return outputs, torch.cat(total_logprobs, dim=1), input_past, end_idxs\n",
    "#     else:\n",
    "#         return outputs, end_idxs"
   ]
  },
  {
   "cell_type": "code",
   "execution_count": 20,
   "id": "65c4b8f1-3a78-442b-936a-daa1689e0ed1",
   "metadata": {
    "jupyter": {
     "source_hidden": true
    },
    "tags": []
   },
   "outputs": [],
   "source": [
    "# for ib, batch in enumerate(dl_train):\n",
    "#     with torch.cuda.amp.autocast() and torch.no_grad():\n",
    "#         descs, locs = batch\n",
    "#         sampled_summaries, sampled_logprobs, input_past, sampled_end_idxs = decode_batch(descs, return_logprobs=True, sample=True) # 32%\n",
    "#     break"
   ]
  },
  {
   "cell_type": "code",
   "execution_count": 13,
   "id": "0458bb76-c824-44db-a941-190ebd385460",
   "metadata": {
    "jupyter": {
     "source_hidden": true
    },
    "tags": []
   },
   "outputs": [
    {
     "data": {
      "text/plain": [
       "tensor(-2.3842e-07, device='cuda:0')"
      ]
     },
     "execution_count": 13,
     "metadata": {},
     "output_type": "execute_result"
    }
   ],
   "source": [
    "sampled_logprobs.max()"
   ]
  },
  {
   "cell_type": "code",
   "execution_count": 19,
   "id": "9d84bf63-0bc2-4843-9041-795f7e2ea693",
   "metadata": {},
   "outputs": [
    {
     "name": "stderr",
     "output_type": "stream",
     "text": [
      "Train, epoch #0 - LR=2e-05:   0%|          | 0/19690 [00:01<?, ?it/s]\n"
     ]
    },
    {
     "ename": "NameError",
     "evalue": "name 'new_rows' is not defined",
     "output_type": "error",
     "traceback": [
      "\u001b[1;31m---------------------------------------------------------------------------\u001b[0m",
      "\u001b[1;31mNameError\u001b[0m                                 Traceback (most recent call last)",
      "\u001b[1;32m~\\AppData\\Local\\Temp/ipykernel_17528/3212359678.py\u001b[0m in \u001b[0;36m<module>\u001b[1;34m\u001b[0m\n\u001b[0;32m     25\u001b[0m             total_sampled_scores, total_argmax_scores, sampled_dict, argmax_dict = score(sampled_summaries, argmax_summaries, sampled_end_idxs, argmax_end_idxs, descs, locs, scorers, \n\u001b[0;32m     26\u001b[0m                                                                 prebuild_withouts, prebuild_summaries, is_train=True) # 15%\n\u001b[1;32m---> 27\u001b[1;33m             \u001b[0mrows\u001b[0m \u001b[1;33m+=\u001b[0m \u001b[0mnew_rows\u001b[0m\u001b[1;33m\u001b[0m\u001b[1;33m\u001b[0m\u001b[0m\n\u001b[0m\u001b[0;32m     28\u001b[0m             \u001b[1;32mdel\u001b[0m \u001b[0mprebuild_withouts\u001b[0m\u001b[1;33m,\u001b[0m \u001b[0mprebuild_summaries\u001b[0m\u001b[1;33m\u001b[0m\u001b[1;33m\u001b[0m\u001b[0m\n\u001b[0;32m     29\u001b[0m             \u001b[1;31m# sum_diff += float((total_argmax_scores - total_sampled_scores).sum())\u001b[0m\u001b[1;33m\u001b[0m\u001b[1;33m\u001b[0m\u001b[0m\n",
      "\u001b[1;31mNameError\u001b[0m: name 'new_rows' is not defined"
     ]
    }
   ],
   "source": [
    "rows = []\n",
    "for i_epoch in range(n_epochs):\n",
    "    total_train_score = 0.0\n",
    "    total_val_score = 0.0\n",
    "    summarizer.model.train()\n",
    "    for ib, batch in enumerate(tqdm(dl_train, desc='Train, epoch #{} - LR={}'.format(i_epoch, optimizer.param_groups[0][\"lr\"]))):\n",
    "        with torch.cuda.amp.autocast():\n",
    "            descs, locs = batch\n",
    "            prebuild_withouts_thread = threading.Thread(target=background_worker, args=(descs, [\"\"] * len(descs), locs, prebuild_withouts_queue))\n",
    "            prebuild_withouts_thread.start()\n",
    "            \n",
    "            sampled_summaries, sampled_logprobs, input_past, sampled_end_idxs = summarizer.decode_batch(descs, return_logprobs=True, sample=True) # 32%\n",
    "            prebuild_summaries_thread = threading.Thread(target=background_worker, args=(descs, sampled_summaries, locs, prebuild_summaries_queue))\n",
    "            prebuild_summaries_thread.start()\n",
    "            selected_logprobs = torch.sum(sampled_logprobs, dim=1)\n",
    "            del sampled_logprobs\n",
    "            argmax_summaries, argmax_end_idxs = summarizer.decode_batch(descs, input_past=input_past) # 18%\n",
    "            del input_past\n",
    "            prebuild_withouts_thread.join()\n",
    "            prebuild_summaries_thread.join()\n",
    "            prebuild_withouts = prebuild_withouts_queue.get()\n",
    "            prebuild_summaries = prebuild_summaries_queue.get()\n",
    "\n",
    "            \n",
    "            total_sampled_scores, total_argmax_scores, sampled_dict, argmax_dict = score(sampled_summaries, argmax_summaries, sampled_end_idxs, argmax_end_idxs, descs, locs, scorers, \n",
    "                                                                prebuild_withouts, prebuild_summaries, is_train=True) # 15%\n",
    "            rows += new_rows\n",
    "            del prebuild_withouts, prebuild_summaries\n",
    "            # sum_diff += float((total_argmax_scores - total_sampled_scores).sum())\n",
    "            loss = torch.mean((total_argmax_scores - total_sampled_scores) * selected_logprobs)\n",
    "            del selected_logprobs, total_sampled_scores, total_argmax_scores\n",
    "            scaler.scale(loss).backward() # 25%\n",
    "            total_train_score += float(loss)\n",
    "            del loss\n",
    "        if ib+1 % optim_every == 0:\n",
    "            scaler.step(optimizer)\n",
    "            scaler.update()\n",
    "            optimizer.zero_grad()\n",
    "            break\n",
    "    break\n",
    "\n",
    "#     avg_train_score = total_train_score / (len(d_train) * batch_size)\n",
    "#     summarizer.model.eval()\n",
    "#     with torch.no_grad():\n",
    "#         for ib, batch in enumerate(tqdm(dl_val, desc='Val, epoch #{} - LR={}'.format(i_epoch, optimizer.param_groups[0][\"lr\"]))):\n",
    "#             descs, locs = batch\n",
    "#             prebuild_withouts_thread = threading.Thread(target=background_worker, args=(descs, [\"\"] * len(descs), locs, prebuild_withouts_queue))\n",
    "#             prebuild_withouts_thread.start()\n",
    "\n",
    "#             sampled_summaries, sampled_logprobs, input_past, sampled_end_idxs = summarizer.decode_batch(descs, return_logprobs=True, sample=True)\n",
    "#             prebuild_summaries_thread = threading.Thread(target=background_worker, args=(descs, sampled_summaries, locs, prebuild_summaries_queue))\n",
    "#             prebuild_summaries_thread.start()\n",
    "\n",
    "#             selected_logprobs = torch.sum(sampled_logprobs, dim=1)\n",
    "#             del sampled_logprobs\n",
    "#             argmax_summaries, argmax_end_idxs = summarizer.decode_batch(descs, input_past=input_past)\n",
    "#             del input_past\n",
    "#             prebuild_withouts_thread.join()\n",
    "#             prebuild_summaries_thread.join()\n",
    "#             prebuild_withouts = prebuild_withouts_queue.get()\n",
    "#             prebuild_summaries = prebuild_summaries_queue.get()\n",
    "#             total_sampled_scores, total_argmax_scores = score(sampled_summaries, argmax_summaries, sampled_end_idxs, argmax_end_idxs, descs, locs, scorers, \n",
    "#                                                                 prebuild_withouts, prebuild_summaries)\n",
    "#             del prebuild_withouts, prebuild_summaries\n",
    "#             loss = float(torch.mean((total_argmax_scores - total_sampled_scores) * selected_logprobs))\n",
    "#             del selected_logprobs, total_sampled_scores, total_argmax_scores\n",
    "#             total_val_score += loss\n",
    "\n",
    "#     avg_val_score = total_val_score / (len(d_val) * batch_size)\n",
    "\n",
    "#     if scheduler is not None:\n",
    "#         scheduler.step()\n",
    "#     with open('summary_scores.csv','a') as f:\n",
    "#         line = '\\n' + str(avg_train_score) + ',' + str(avg_val_score)\n",
    "#         print(line)\n",
    "#         f.write(line)\n",
    "        \n",
    "\n",
    "#     texts = [\"\"\"A prewar Rosario Candela architectural masterpiece, this sun-flooded corner 14 into 11 room grand duplex was expertly renovated by renowned architect Mary Burnham of MBB Architects in partnership with designer Rachel Laxer and home builder Josh Weiner of Silver Lining. The largest home in the building, Apartment 10/11A has five bedrooms, five full bathrooms and two powder rooms. The residence has undergone a complete state-of-the-art restoration and modernization with every room being completely gutted and put back together with no expense being spared and utilizing the best of materials and systems while restoring the elegance of historic details. Perfect for both entertaining and everyday living, there are ceilings up to 10' 8\", two wood burning fireplaces, a balcony, raised doorways, perfectly restored original oak wood flooring as well as new rift quarter sawn white oak flooring, new windows, custom millwork, plaster moldings, bespoke E.R. Butler & Co. hardware, specialty paint finishes, and radiant heat in the kitchen, mud room and all bathrooms. All mechanical elements of this sophisticated home have been fully modernized including new electrical, new plumbing and a state-of-the-art Savant Pro Home Technology system which integrates the extensive audio/video components, Lutron lighting system, motorized shades and HVAC. The Savant system allows you to control the entire home through your cell phone or the multiple iPads in the residence. There is a five-zone HVAC system with temperature controlled zones for AC and each room having a control for heat. The home has Cat5e cabling, a Panasonic phone and intercom system, wired WAPs throughout for excellent WiFi connectivity, in-ceiling speakers throughout and it is wired for televisions in seven rooms. A semi-private elevator landing opens onto a regal 31-foot long entrance gallery that spans the beautiful enfilade of formal spaces which face south, east and west. Off the gallery is an exquisite powder room, an oversized coat closet, and a discreet china closet hidden under the staircase. The sun-drenched living room boasts three oversized windows which face south. This magnificent room is 28' 7\" by 20' 2\" and has the first wood burning fireplace. Adjacent is a palatial 26-foot long corner library with four windows facing south and east which has been meticulously restored and has the original distinguished wood paneling, original Tudor style plaster molded ceiling and frieze, and the second wood burning fireplace. Next is a corner formal dining room which has been transformed into an incredible entertainment room which has four windows facing south and west and has a built-in banquette for dining. The corner eat-in kitchen is open to this room and can be closed off by concealed pocket doors if you want to formally entertain. The kitchen has custom Bulthaup cabinetry, quartzite countertops by Walker Zanger, porcelain tile flooring by Fibra Collection, and a center island clad in a Luce Di Luna slab with seating. It is equipped with top-of-the-line appliances including a Subzero refrigerator and two freezer drawers, a Subzero wine refrigerator, two Subzero refrigerator drawers, two Gaggenau ovens, a Gaggenau five burner range with a vented hood, a Gaggenau warming drawer, two Miele dishwashers, a Franke sink and an endless amount of storage. Off of the kitchen is an incredible large windowed mudroom with built-in wood storage lockers and shelving as well as a second windowed powder room, a balcony and a back staircase leading to the 11th floor.\"\"\",\n",
    "#             \"\"\"Spacious 3 bedroom, 2 bathroom home with beautiful East River views and oversized balcony with direct access from both living room and primary bedroom. Large kitchen with pass-through to living room. Living room with plenty of room for dining, piano and more!\n",
    "# Primary bedroom is almost 400 sq ft and could accommodate a king sized bed, sitting room and home office. Closets are abundant and one walk-in could easily convert to 3rd bathroom or laundry room.\n",
    "# Two additional bedrooms could also accommodate king sized beds, desks etc. \n",
    "# W/D allowed. Cats & Dog friendly. 45 East End Ave permits up to 65% Financing.\n",
    "\n",
    "# 45 East End Avenue was built in 1951 by acclaimed New York City architect firm Emery Roth & Sons. The building has full-time doorman, live-in resident manager, laundry room, roof deck, parking garage, storage & bike room.\n",
    "# Perched over the promenade, 45 East End shareholders enjoy easy access to the outdoors; the John Finley Walkway, the Carl Schurz dog run, the 90th St Ferry Terminal, allowing for an easy commute for Downtown workers and very close to the 83rd Street entrance to the Second Avenue Subway. \n",
    "# The co-op boasts strong financials while also completing a number of capital projects.\"\"\"]\n",
    "#     with torch.no_grad():\n",
    "#         sampled_summaries, _ = summarizer.decode_batch(texts, sample=True)\n",
    "#         sampled_summaries = [x.replace('\\n','\\\\n') for x in sampled_summaries]\n",
    "#         print('**SAMPLED**\\n** '+'\\n** '.join(sampled_summaries))\n",
    "#         argmax_summaries, _ = summarizer.decode_batch(texts)\n",
    "#         argmax_summaries = [x.replace('\\n', '\\\\n') for x in argmax_summaries]\n",
    "#         print('**ARGMAX**\\n** '+'\\n** '.join(argmax_summaries))\n",
    "    \n",
    "#     summarizer.model.save_pretrained(params.summary_loop_model_dir)"
   ]
  },
  {
   "cell_type": "code",
   "execution_count": 20,
   "id": "4dbf80ac-c94b-48be-952d-7322c7e3ef4e",
   "metadata": {},
   "outputs": [
    {
     "data": {
      "text/plain": [
       "{'coverage': 0.0,\n",
       " 'fluency': 0.3549717962741852,\n",
       " 'patpen': 2.0,\n",
       " 'lengthpen': 2.0,\n",
       " 'reppen': 2.0,\n",
       " 'badchar': 1.0,\n",
       " 'sampled': True,\n",
       " 'is_train': True,\n",
       " 'epoch': -1,\n",
       " 'batch_size': 2}"
      ]
     },
     "execution_count": 20,
     "metadata": {},
     "output_type": "execute_result"
    }
   ],
   "source": [
    "sampled_dict"
   ]
  },
  {
   "cell_type": "code",
   "execution_count": 21,
   "id": "fefa1a31-64c0-493d-9abe-06b68b867e4e",
   "metadata": {},
   "outputs": [
    {
     "data": {
      "text/plain": [
       "{'coverage': 0.0,\n",
       " 'fluency': 1.4563519954681396,\n",
       " 'patpen': 2.0,\n",
       " 'lengthpen': 2.0,\n",
       " 'reppen': 2.0,\n",
       " 'badchar': 0.0,\n",
       " 'sampled': False,\n",
       " 'is_train': True,\n",
       " 'epoch': -1,\n",
       " 'batch_size': 2}"
      ]
     },
     "execution_count": 21,
     "metadata": {},
     "output_type": "execute_result"
    }
   ],
   "source": [
    "argmax_dict"
   ]
  },
  {
   "cell_type": "code",
   "execution_count": null,
   "id": "b83d0787-28a1-4b0c-9d50-121821d1564a",
   "metadata": {},
   "outputs": [],
   "source": []
  }
 ],
 "metadata": {
  "kernelspec": {
   "display_name": "Python 3 (ipykernel)",
   "language": "python",
   "name": "python3"
  },
  "language_info": {
   "codemirror_mode": {
    "name": "ipython",
    "version": 3
   },
   "file_extension": ".py",
   "mimetype": "text/x-python",
   "name": "python",
   "nbconvert_exporter": "python",
   "pygments_lexer": "ipython3",
   "version": "3.9.7"
  }
 },
 "nbformat": 4,
 "nbformat_minor": 5
}
