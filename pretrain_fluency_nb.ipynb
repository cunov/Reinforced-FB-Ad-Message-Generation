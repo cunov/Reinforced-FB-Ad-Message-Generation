{
 "cells": [
  {
   "cell_type": "code",
   "execution_count": 1,
   "id": "a6c0dcf1-b020-4f5d-9dcf-7269422c1cd6",
   "metadata": {},
   "outputs": [],
   "source": [
    "import torch.optim as optim\n",
    "from torch.utils.data import DataLoader\n",
    "import torch\n",
    "import pandas as pd, numpy as np\n",
    "from tqdm import tqdm\n",
    "import argparse\n",
    "import os\n",
    "from model_generator import Fluency\n",
    "from parameters import Parameters\n",
    "from transformers import GPT2LMHeadModel, GPT2Tokenizer\n",
    "train_test_split = 0.8\n",
    "batch_size = 32\n",
    "n_epochs = 5\n",
    "learning_rate = 2e-5\n",
    "optim_every = int(32 / batch_size)\n",
    "params = Parameters()"
   ]
  },
  {
   "cell_type": "code",
   "execution_count": 11,
   "id": "b5b4911e-91b9-4278-9fe8-b00e45a74ddb",
   "metadata": {},
   "outputs": [
    {
     "name": "stdout",
     "output_type": "stream",
     "text": [
      "5\n"
     ]
    },
    {
     "ename": "AttributeError",
     "evalue": "__enter__",
     "output_type": "error",
     "traceback": [
      "\u001b[1;31m---------------------------------------------------------------------------\u001b[0m",
      "\u001b[1;31mAttributeError\u001b[0m                            Traceback (most recent call last)",
      "\u001b[1;32m~\\AppData\\Local\\Temp/ipykernel_8312/2215231369.py\u001b[0m in \u001b[0;36m<module>\u001b[1;34m\u001b[0m\n\u001b[0;32m      2\u001b[0m \u001b[1;32mwith\u001b[0m \u001b[0mx\u001b[0m\u001b[1;33m:\u001b[0m\u001b[1;33m\u001b[0m\u001b[1;33m\u001b[0m\u001b[0m\n\u001b[0;32m      3\u001b[0m     \u001b[0mprint\u001b[0m\u001b[1;33m(\u001b[0m\u001b[1;36m5\u001b[0m\u001b[1;33m)\u001b[0m\u001b[1;33m\u001b[0m\u001b[1;33m\u001b[0m\u001b[0m\n\u001b[1;32m----> 4\u001b[1;33m \u001b[1;32mwith\u001b[0m \u001b[1;36m1\u001b[0m\u001b[1;33m:\u001b[0m\u001b[1;33m\u001b[0m\u001b[1;33m\u001b[0m\u001b[0m\n\u001b[0m\u001b[0;32m      5\u001b[0m     \u001b[0mprint\u001b[0m\u001b[1;33m(\u001b[0m\u001b[1;36m5\u001b[0m\u001b[1;33m)\u001b[0m\u001b[1;33m\u001b[0m\u001b[1;33m\u001b[0m\u001b[0m\n",
      "\u001b[1;31mAttributeError\u001b[0m: __enter__"
     ]
    }
   ],
   "source": [
    "x = torch.no_grad()\n",
    "with x:\n",
    "    print(5)\n",
    "with 1:\n",
    "    print(5)"
   ]
  },
  {
   "cell_type": "code",
   "execution_count": 2,
   "id": "470d6526-bec9-4db2-b12e-aeb421c254e2",
   "metadata": {},
   "outputs": [],
   "source": [
    "model = GPT2LMHeadModel.from_pretrained('C:/Users/Colton/OneDrive/School/Thesis/Adfenix/play/models/2022-04-11/fluency/model_14')\n",
    "tokenizer = GPT2Tokenizer.from_pretrained('C:/Users/Colton/OneDrive/School/Thesis/Adfenix/play/models/2022-04-11/fluency/tokenizer')"
   ]
  },
  {
   "cell_type": "code",
   "execution_count": 3,
   "id": "773bcb9b-111c-4089-9e68-5f445a6f2441",
   "metadata": {},
   "outputs": [],
   "source": [
    "texts = ['PositionPositionPositionPositionPositionPositionPositionPositionPositionPositionPositionPositionPositionPositionPositionPositionPositionPositionPositionPositionPositionPositionPositionPositionPositionPositionPositionPositionPositionPositionPositionPositionPositionPositionPositionPositionPositionPositionPositionPosition', 'This wonderful home has 7 bedrooms, 3 bathrooms, a three car garage, and is located near wonderful schools and local parks','Spacious 3 bedroom, 2 bathroom home with beautiful East River views and oversized balcony with direct access from both living room and primary bedroom. Large kitchen with pass-through to living room.']"
   ]
  },
  {
   "cell_type": "code",
   "execution_count": 8,
   "id": "48b47391-46b2-4419-811b-bc21aa896c08",
   "metadata": {},
   "outputs": [],
   "source": [
    "def score(batch_msgs):\n",
    "    with torch.no_grad():\n",
    "        summ_inp, summ_out = preprocess_input(batch_msgs)\n",
    "        outputs = model(**summ_inp)\n",
    "        logits = outputs.logits\n",
    "        crit = torch.nn.CrossEntropyLoss(ignore_index=-1, reduction='none')\n",
    "        loss = crit(logits.view(-1, len(tokenizer)), summ_out.input_ids.view(-1)).view(summ_out.input_ids.shape)\n",
    "        non_pads = ~torch.eq(summ_inp.input_ids, tokenizer.pad_token_id)\n",
    "        non_pad_cnts = torch.sum(non_pads, dim=1).to('cpu')\n",
    "        loss_per = torch.sum(loss, dim=1) / non_pad_cnts\n",
    "\n",
    "        score = (10.0 - loss_per) / 10.0\n",
    "        return score\n",
    "    \n",
    "def preprocess_input(batch_msgs):\n",
    "    inputs = tokenizer([tokenizer.bos_token + msg for msg in batch_msgs], return_tensors='pt', padding=True, truncation=True, max_length=40).to('cpu')\n",
    "    outputs = tokenizer([msg + tokenizer.eos_token for msg in batch_msgs], return_tensors='pt', padding=True, truncation=True, max_length=40).to('cpu')\n",
    "    for i,inpid in enumerate(outputs.input_ids):\n",
    "        for j,item in enumerate(inpid):\n",
    "            if item == tokenizer.pad_token_id:\n",
    "                outputs['input_ids'][i][j] = -1 \n",
    "        if not tokenizer.eos_token_id in inpid:\n",
    "            outputs['input_ids'][i][-1] = tokenizer.eos_token_id\n",
    "    return inputs, outputs"
   ]
  },
  {
   "cell_type": "code",
   "execution_count": 9,
   "id": "0b626264-e6b0-4ba5-8ce3-a23178caa28d",
   "metadata": {},
   "outputs": [
    {
     "data": {
      "text/plain": [
       "tensor([0.6252, 0.7058, 0.6966])"
      ]
     },
     "execution_count": 9,
     "metadata": {},
     "output_type": "execute_result"
    }
   ],
   "source": [
    "score(texts)"
   ]
  },
  {
   "cell_type": "code",
   "execution_count": null,
   "id": "e2ad8141-67cd-4c21-9975-a6a79ca8ffb2",
   "metadata": {},
   "outputs": [],
   "source": []
  },
  {
   "cell_type": "code",
   "execution_count": null,
   "id": "a2d2b7a1-6f56-48ad-a7f5-15cd93c78a46",
   "metadata": {},
   "outputs": [],
   "source": []
  },
  {
   "cell_type": "code",
   "execution_count": 2,
   "id": "fda71340-7c6f-4ca8-80a6-90fed4d9ef52",
   "metadata": {},
   "outputs": [
    {
     "name": "stderr",
     "output_type": "stream",
     "text": [
      "Special tokens have been added in the vocabulary, make sure the associated word embeddings are fine-tuned or trained.\n"
     ]
    },
    {
     "name": "stdout",
     "output_type": "stream",
     "text": [
      "Loaded default fluency model, tokenizer\n"
     ]
    }
   ],
   "source": [
    "milestones = list(range(3, n_epochs))\n",
    "gamma = 0.8\n",
    "\n",
    "params = Parameters()\n",
    "\n",
    "df = pd.read_csv(params.dataset_filename, low_memory=False)\n",
    "msgs = [msg for msg in df.msg_clean.tolist() if isinstance(msg, str)]\n",
    "\n",
    "N = len(msgs)\n",
    "N_train = int(N * train_test_split)\n",
    "N_val = N - N_train\n",
    "d_train, d_val = torch.utils.data.dataset.random_split(msgs, [N_train, N_val])\n",
    "\n",
    "fluency = Fluency()\n",
    "\n",
    "class Dataset:\n",
    "    def __init__(self, msgs):\n",
    "        inputs, outputs = fluency.preprocess_input(msgs)\n",
    "        self.input_ids = inputs.input_ids\n",
    "        self.attn_mask = inputs.attention_mask\n",
    "        self.outputs = outputs.input_ids\n",
    "        \n",
    "    def __getitem__(self, i):\n",
    "        return self.input_ids[i].to(params.device), self.attn_mask[i].to(params.device), self.outputs[i].to(params.device)\n",
    "    \n",
    "    def __len__(self):\n",
    "        return len(self.outputs)"
   ]
  },
  {
   "cell_type": "code",
   "execution_count": 3,
   "id": "412da104-48a2-442a-a83c-a7138dffd9dd",
   "metadata": {},
   "outputs": [
    {
     "name": "stdout",
     "output_type": "stream",
     "text": [
      "Creating train dataset...done\n",
      "Creating val dataset...done\n",
      "Creating dataloaders..."
     ]
    }
   ],
   "source": [
    "print('Creating train dataset...',end='')\n",
    "dataset_train = Dataset(list(d_train))\n",
    "print('done\\nCreating val dataset...',end='')\n",
    "dataset_val = Dataset(list(d_val))\n",
    "print('done\\nCreating dataloaders...',end='')\n",
    "dl_train = DataLoader(dataset=dataset_train, batch_size=batch_size, shuffle=True, drop_last=True)\n",
    "dl_val = DataLoader(dataset=dataset_val, batch_size=32, shuffle=True, drop_last=True)\n",
    "\n",
    "crit = torch.nn.CrossEntropyLoss(ignore_index=-1)\n",
    "optimizer = optim.AdamW(fluency.model.parameters(), lr=learning_rate)\n",
    "scheduler = optim.lr_scheduler.MultiStepLR(optimizer, milestones=milestones, gamma=gamma)\n",
    "\n",
    "# if not os.path.isdir(params.model_today_dir):\n",
    "#     os.mkdir(params.model_today_dir)\n",
    "# if not os.path.isdir(params.base_fluency_dir):\n",
    "#     os.mkdir(params.base_fluency_dir)\n",
    "\n",
    "# params.write_params(params.base_fluency_dir)\n",
    "# lines = ['\\nlearning rate = {}\\t milestones = {}\\tgamma = {}'.format(learning_rate, milestones, gamma)]\n",
    "# params.write_params(params.base_fluency_dir, lines)\n",
    "# fluency.tokenizer.save_pretrained(params.fluency_tokenizer_dir)\n",
    "# lines = ['\\nepoch,train_loss,val_loss']\n",
    "# params.write_params(params.base_fluency_dir, lines)"
   ]
  },
  {
   "cell_type": "code",
   "execution_count": 4,
   "id": "332be328-2cb5-44e6-baf5-7da6afcd6436",
   "metadata": {},
   "outputs": [
    {
     "data": {
      "text/plain": [
       "'<|startoftext|> <|pad|>'"
      ]
     },
     "execution_count": 4,
     "metadata": {},
     "output_type": "execute_result"
    }
   ],
   "source": [
    "fluency.tokenizer.decode([50257, 50258])"
   ]
  },
  {
   "cell_type": "code",
   "execution_count": null,
   "id": "ec09420d-315a-4326-bbfc-0d6492f551bc",
   "metadata": {},
   "outputs": [],
   "source": [
    "for i_epoch in range(n_epochs):\n",
    "    total_train_loss = 0\n",
    "    total_val_loss = 0\n",
    "    \n",
    "    fluency.model.train()\n",
    "    for ib, batch in enumerate(tqdm(dl_train, desc='Train, epoch #{} - LR={}'.format(i_epoch, optimizer.param_groups[0][\"lr\"]))):\n",
    "        input_ids, attn_mask, outputs = batch\n",
    "        res = fluency.model(input_ids=input_ids, attention_mask=attn_mask)\n",
    "        logits = res.logits\n",
    "        loss = crit(logits.view(-1,len(fluency.tokenizer)), outputs.view(-1))\n",
    "        loss.backward()\n",
    "        total_train_loss += loss.item()\n",
    "        if ib + 1 % optim_every == 0:\n",
    "            optimizer.step()\n",
    "            optimizer.zero_grad()\n",
    "\n",
    "    scheduler.step()\n",
    "    avg_train_loss = total_train_loss / len(dl_train)\n",
    "    \n",
    "    fluency.model.eval()\n",
    "    with torch.no_grad():\n",
    "        for ib, batch in enumerate(tqdm(dl_val, desc='Val, epoch #{}'.format(i_epoch))):\n",
    "            input_ids, attn_mask, outputs = batch\n",
    "            res = fluency.model(input_ids=input_ids, attention_mask=attn_mask)\n",
    "            logits = res.logits\n",
    "            loss = crit(logits.view(-1, len(fluency.tokenizer)), outputs.view(-1))\n",
    "            total_val_loss += loss.item()\n",
    "\n",
    "        avg_val_loss = total_val_loss / len(dl_val)\n",
    "\n",
    "    lines = ['\\n'+','.join([str(item) for item in [i_epoch, avg_train_loss, avg_val_loss]])]\n",
    "    # params.write_params(params.base_fluency_dir, lines)\n",
    "    print(lines)\n",
    "    # fluency.model.save_pretrained(params.fluency_model_dir.format(i_epoch))"
   ]
  },
  {
   "cell_type": "code",
   "execution_count": null,
   "id": "4ce3a20b-1e95-4261-8f25-20c7cbda2ba8",
   "metadata": {},
   "outputs": [],
   "source": [
    "for ib, batch in enumerate(dl_train):\n",
    "    input_ids, attn_mask, outputs = batch\n",
    "    for inpid in input_ids:\n",
    "        if inpid[0] =="
   ]
  }
 ],
 "metadata": {
  "kernelspec": {
   "display_name": "Python 3 (ipykernel)",
   "language": "python",
   "name": "python3"
  },
  "language_info": {
   "codemirror_mode": {
    "name": "ipython",
    "version": 3
   },
   "file_extension": ".py",
   "mimetype": "text/x-python",
   "name": "python",
   "nbconvert_exporter": "python",
   "pygments_lexer": "ipython3",
   "version": "3.9.7"
  }
 },
 "nbformat": 4,
 "nbformat_minor": 5
}
